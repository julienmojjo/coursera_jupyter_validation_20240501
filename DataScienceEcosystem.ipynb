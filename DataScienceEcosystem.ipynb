{
 "cells": [
  {
   "cell_type": "markdown",
   "id": "30598698",
   "metadata": {},
   "source": [
    "# Data Science Tools and Ecosystem\n",
    "![title](./2-title.png)"
   ]
  },
  {
   "cell_type": "markdown",
   "id": "87b690dc",
   "metadata": {},
   "source": [
    "In this notebook, Data Science Tools and Ecosystem are summarized.\n",
    "![intro](./3-intro.png)"
   ]
  },
  {
   "cell_type": "markdown",
   "id": "80d3ee18",
   "metadata": {},
   "source": [
    "**Objectives:**\n",
    "- Getting introduced with Jupyter Notebooks\n",
    "- Getting introduced with R Studio\n",
    "- Getting introduced with Data Viz\n",
    "- Getting introduced with Version Control\n",
    "![objectives](./10-objectives.jpg)"
   ]
  },
  {
   "cell_type": "markdown",
   "id": "55f0e198",
   "metadata": {},
   "source": [
    "Some of the popular languages that Data Scientists use are:\n",
    "1. Julia\n",
    "2. Python\n",
    "3. R\n",
    "![languages](./4-dslanguages.jpg)"
   ]
  },
  {
   "cell_type": "markdown",
   "id": "d104c42d",
   "metadata": {},
   "source": [
    "Some of the commonly used libraries used by Data Scientists include:\n",
    "1. ggplot2\n",
    "2. pandas\n",
    "3. sickit-learn\n",
    "![libraries](./5-dslibraries.jpg)"
   ]
  },
  {
   "cell_type": "markdown",
   "id": "17bab451",
   "metadata": {},
   "source": [
    "|Data Science tools|\n",
    "|--\n",
    "|Git & github|\n",
    "|R Studio|\n",
    "|Anaconda|\n",
    "![tools](./6-dstools.jpg)"
   ]
  },
  {
   "cell_type": "markdown",
   "id": "67ae2582",
   "metadata": {},
   "source": [
    "### Below are a few examples of evaluating arithmetic expressions in Python\n",
    "![introarithmetic](./7-introarithmetic.jpg)"
   ]
  },
  {
   "cell_type": "code",
   "execution_count": 1,
   "id": "cf1affe7",
   "metadata": {},
   "outputs": [
    {
     "data": {
      "text/plain": [
       "17"
      ]
     },
     "execution_count": 1,
     "metadata": {},
     "output_type": "execute_result"
    }
   ],
   "source": [
    "#   This a simple arithmetic expression to mutiply then add integers\n",
    "(3*4)+5"
   ]
  },
  {
   "cell_type": "markdown",
   "id": "6f610a7c",
   "metadata": {},
   "source": [
    "![multiply](./8-multiplyandaddintegers.jpg)"
   ]
  },
  {
   "cell_type": "code",
   "execution_count": 2,
   "id": "e038c3bf",
   "metadata": {},
   "outputs": [
    {
     "name": "stdout",
     "output_type": "stream",
     "text": [
      "3.3333333333333335\n"
     ]
    }
   ],
   "source": [
    "# This will convert 200 minutes to hours by diving by 60\n",
    "minutes = 200\n",
    "hours = minutes / 60\n",
    "print(hours)"
   ]
  },
  {
   "cell_type": "markdown",
   "id": "5d544833",
   "metadata": {},
   "source": [
    "![hourstominutes](./9-hourstominutes.jpg)"
   ]
  },
  {
   "cell_type": "markdown",
   "id": "af3a174b",
   "metadata": {},
   "source": [
    "## Author\n",
    "Julien Vernay\n",
    "![author](./11-authordetails.jpg)"
   ]
  },
  {
   "cell_type": "code",
   "execution_count": null,
   "id": "9e626632",
   "metadata": {},
   "outputs": [],
   "source": []
  }
 ],
 "metadata": {
  "kernelspec": {
   "display_name": "Python 3 (ipykernel)",
   "language": "python",
   "name": "python3"
  },
  "language_info": {
   "codemirror_mode": {
    "name": "ipython",
    "version": 3
   },
   "file_extension": ".py",
   "mimetype": "text/x-python",
   "name": "python",
   "nbconvert_exporter": "python",
   "pygments_lexer": "ipython3",
   "version": "3.11.7"
  }
 },
 "nbformat": 4,
 "nbformat_minor": 5
}
